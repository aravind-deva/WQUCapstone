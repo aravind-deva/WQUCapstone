{
 "cells": [
  {
   "cell_type": "code",
   "execution_count": 21,
   "id": "dc25990c-46c0-43cc-bcbd-28e3545dcb3c",
   "metadata": {
    "ExecuteTime": {
     "end_time": "2025-05-07T12:10:30.328792Z",
     "start_time": "2025-05-07T12:10:29.520784Z"
    }
   },
   "outputs": [],
   "source": [
    "import numpy as np\n",
    "import pandas as pd\n",
    "import time\n",
    "import ast\n",
    "import json\n",
    "import datetime\n",
    "import pprint\n",
    "\n",
    "\n",
    "import warnings \n",
    "warnings.filterwarnings('ignore')\n",
    "\n",
    "import logging\n",
    "from kiteconnect import KiteConnect\n",
    "\n",
    "from kiteconnect import KiteConnect, KiteTicker\n",
    "import time\n",
    "import threading\n",
    "\n",
    "logging.basicConfig(level=logging.ERROR)\n",
    "\n",
    "from kiteconnect import KiteConnect\n",
    "import os\n",
    "import pickle"
   ]
  },
  {
   "cell_type": "code",
   "execution_count": null,
   "id": "d0f64b3e",
   "metadata": {},
   "outputs": [],
   "source": [
    "kite = KiteConnect(api_key=api_key)\n",
    "data = kite.generate_session(request_token, api_secret=api_secret)\n",
    "access_token = data[\"access_token\"]\n",
    "kite.set_access_token(access_token)"
   ]
  },
  {
   "cell_type": "code",
   "execution_count": 23,
   "id": "eb274277-4d24-49f6-b9f7-9c77078191ef",
   "metadata": {},
   "outputs": [
    {
     "data": {
      "text/plain": [
       "'https://kite.zerodha.com/connect/login?api_key=jjmpbk1sgga5fsjw&v=3'"
      ]
     },
     "execution_count": 23,
     "metadata": {},
     "output_type": "execute_result"
    }
   ],
   "source": [
    "kite.login_url()"
   ]
  },
  {
   "cell_type": "code",
   "execution_count": 26,
   "id": "0300ab2f",
   "metadata": {},
   "outputs": [],
   "source": [
    "instruments = kite.instruments()\n",
    "inst_list = [\n",
    "             \"ICICIBANK\",\"HDFCBANK\",\"YESBANK\",\"AXISBANK\",\\\n",
    "             \"INFY\",\"TCS\",\\\n",
    "             \"TATAMOTORS\",\"TVSMOTOR\"\\\n",
    "            ]\n",
    "\n"
   ]
  },
  {
   "cell_type": "code",
   "execution_count": 1,
   "id": "a329875c-6b46-453d-83e7-8ec9e7528454",
   "metadata": {},
   "outputs": [],
   "source": [
    "dict_inst ={}\n",
    "inst_dict = {} \n",
    "inst_ticks = {}\n",
    "for inst in instruments:\n",
    "    if inst.get(\"instrument_type\") == 'EQ' and  inst.get(\"exchange\") == \"NSE\":\n",
    "        symbol = inst.get(\"tradingsymbol\")\n",
    "        dict_inst[symbol] = inst.get(\"instrument_token\")\n",
    "        inst_dict[inst.get(\"instrument_token\")] = symbol\n",
    "        inst_ticks[symbol] = inst.get(\"tick_size\")\n",
    "        if symbol in inst_list:\n",
    "            print(inst)"
   ]
  },
  {
   "cell_type": "code",
   "execution_count": 28,
   "id": "6f5249c4",
   "metadata": {
    "scrolled": false
   },
   "outputs": [
    {
     "name": "stdout",
     "output_type": "stream",
     "text": [
      "last 5 days\n",
      "-------------- ICICIBANK\n",
      "-------------- HDFCBANK\n",
      "-------------- YESBANK\n",
      "-------------- AXISBANK\n",
      "-------------- INFY\n",
      "-------------- TCS\n",
      "-------------- TATAMOTORS\n",
      "-------------- TVSMOTOR\n"
     ]
    }
   ],
   "source": [
    "print('last 5 days')\n",
    "returns_dict ={}\n",
    "delta_dict = {}\n",
    "vol_dict = {}\n",
    "for symbol in  inst_list:\n",
    "    instrument_token = dict_inst.get(symbol)\n",
    "    interval = \"5minute\"\n",
    "\n",
    "    to_date = datetime.date.today()\n",
    "    from_date =  to_date - datetime.timedelta(days=5)\n",
    "\n",
    "    data = kite.historical_data(\n",
    "        instrument_token=instrument_token,\n",
    "        from_date=from_date,\n",
    "        to_date=to_date,\n",
    "        interval=interval,\n",
    "        continuous=False,\n",
    "        oi=False\n",
    "    )\n",
    "\n",
    "    close_prices = []\n",
    "    print(\"--------------\",symbol)\n",
    "    \n",
    "    df = pd.DataFrame(data)\n",
    "    df['ticker'] =symbol\n",
    "    df.to_csv(f'{symbol}.csv')\n",
    "    \n"
   ]
  }
 ],
 "metadata": {
  "kernelspec": {
   "display_name": "Python 3 (ipykernel)",
   "language": "python",
   "name": "python3"
  },
  "language_info": {
   "codemirror_mode": {
    "name": "ipython",
    "version": 3
   },
   "file_extension": ".py",
   "mimetype": "text/x-python",
   "name": "python",
   "nbconvert_exporter": "python",
   "pygments_lexer": "ipython3",
   "version": "3.9.19"
  }
 },
 "nbformat": 4,
 "nbformat_minor": 5
}
