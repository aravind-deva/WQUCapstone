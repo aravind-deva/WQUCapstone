{
 "cells": [
  {
   "cell_type": "code",
   "execution_count": 21,
   "id": "dc25990c-46c0-43cc-bcbd-28e3545dcb3c",
   "metadata": {
    "ExecuteTime": {
     "end_time": "2025-05-07T12:10:30.328792Z",
     "start_time": "2025-05-07T12:10:29.520784Z"
    }
   },
   "outputs": [],
   "source": [
    "import numpy as np\n",
    "import pandas as pd\n",
    "import time\n",
    "import ast\n",
    "import json\n",
    "import datetime\n",
    "import pprint\n",
    "\n",
    "\n",
    "import warnings \n",
    "warnings.filterwarnings('ignore')\n",
    "\n",
    "import logging\n",
    "from kiteconnect import KiteConnect\n",
    "\n",
    "from kiteconnect import KiteConnect, KiteTicker\n",
    "import time\n",
    "import threading\n",
    "\n",
    "logging.basicConfig(level=logging.ERROR)\n",
    "\n",
    "from kiteconnect import KiteConnect\n",
    "import os\n",
    "import pickle\n",
    "\n",
    "pd.options.display.max_rows = 500\n",
    "pd.options.display.max_columns = 1000"
   ]
  },
  {
   "cell_type": "code",
   "execution_count": null,
   "id": "d0f64b3e",
   "metadata": {},
   "outputs": [],
   "source": [
    "kite = KiteConnect(api_key=api_key)\n",
    "data = kite.generate_session(request_token, api_secret=api_secret)\n",
    "access_token = data[\"access_token\"]\n",
    "kite.set_access_token(access_token)"
   ]
  },
  {
   "cell_type": "code",
   "execution_count": 26,
   "id": "0300ab2f",
   "metadata": {},
   "outputs": [],
   "source": [
    "instruments = kite.instruments()\n",
    "inst_list = [\n",
    "             \"ICICIBANK\",\"HDFCBANK\",\"YESBANK\",\"AXISBANK\",\\\n",
    "             \"INFY\",\"TCS\",\\\n",
    "             \"TATAMOTORS\",\"TVSMOTOR\"\\\n",
    "            ]\n",
    "\n"
   ]
  },
  {
   "cell_type": "code",
   "execution_count": 1,
   "id": "a329875c-6b46-453d-83e7-8ec9e7528454",
   "metadata": {},
   "outputs": [],
   "source": [
    "dict_inst ={}\n",
    "inst_dict = {} \n",
    "inst_ticks = {}\n",
    "for inst in instruments:\n",
    "    if inst.get(\"instrument_type\") == 'EQ' and  inst.get(\"exchange\") == \"NSE\":\n",
    "        symbol = inst.get(\"tradingsymbol\")\n",
    "        dict_inst[symbol] = inst.get(\"instrument_token\")\n",
    "        inst_dict[inst.get(\"instrument_token\")] = symbol\n",
    "        inst_ticks[symbol] = inst.get(\"tick_size\")\n",
    "        if symbol in inst_list:\n",
    "            print(inst)"
   ]
  },
  {
   "cell_type": "code",
   "execution_count": 28,
   "id": "6f5249c4",
   "metadata": {
    "scrolled": false
   },
   "outputs": [
    {
     "name": "stdout",
     "output_type": "stream",
     "text": [
      "last 5 days\n",
      "-------------- ICICIBANK\n",
      "-------------- HDFCBANK\n",
      "-------------- YESBANK\n",
      "-------------- AXISBANK\n",
      "-------------- INFY\n",
      "-------------- TCS\n",
      "-------------- TATAMOTORS\n",
      "-------------- TVSMOTOR\n"
     ]
    }
   ],
   "source": [
    "print('last 5 days')\n",
    "returns_dict ={}\n",
    "delta_dict = {}\n",
    "vol_dict = {}\n",
    "for symbol in  inst_list:\n",
    "    instrument_token = dict_inst.get(symbol)\n",
    "    interval = \"5minute\"\n",
    "\n",
    "    to_date = datetime.date.today()\n",
    "    from_date =  to_date - datetime.timedelta(days=5)\n",
    "\n",
    "    data = kite.historical_data(\n",
    "        instrument_token=instrument_token,\n",
    "        from_date=from_date,\n",
    "        to_date=to_date,\n",
    "        interval=interval,\n",
    "        continuous=False,\n",
    "        oi=False\n",
    "    )\n",
    "\n",
    "    close_prices = []\n",
    "    print(\"--------------\",symbol)\n",
    "    \n",
    "    df = pd.DataFrame(data)\n",
    "    df['ticker'] =symbol\n",
    "    df.to_csv(f'{symbol}.csv',index=False)\n",
    "    \n"
   ]
  },
  {
   "cell_type": "markdown",
   "id": "b745c5fa",
   "metadata": {},
   "source": [
    "## Plan of Action\n",
    "\n",
    "- For each ticker, the opening range is constructed\n",
    "- Based on opening bullish/bearish chandle, the breakout level is determined. Scope to use retracement levels\n",
    "- Based on Fibonacci Golden ratio Extension , target is determined\n"
   ]
  },
  {
   "cell_type": "code",
   "execution_count": null,
   "id": "15e501af",
   "metadata": {},
   "outputs": [],
   "source": [
    "dfs= {}\n",
    "for symbol in  inst_list:\n",
    "    df = pd.read_csv(f'{symbol}.csv')\n",
    "\n",
    "    df['dt'] = pd.to_datetime(df.date).dt.date\n",
    "\n",
    "    bullish_df= df.groupby('dt').first().apply(lambda row:row['open']-row['close'] > 0,axis=1).to_frame().reset_index()\n",
    "\n",
    "    bullish_df = bullish_df.rename({0:'bullish'},axis=1)\n",
    "\n",
    "    OR_df = df.groupby('dt').first().apply(lambda row:row['high']-row['low'],axis=1).to_frame().reset_index()\n",
    "\n",
    "    OR_df = OR_df.rename({0:'OR'},axis=1)\n",
    "    \n",
    "    \n",
    "    df = df.merge(bullish_df).merge(OR_df)\n",
    "\n",
    "    ORB_Target_df = df.groupby('dt').first().apply(lambda row: row['low'] + 1.618 *  row['OR'] if row['bullish'] else row['high'] - 1.618 *  row['OR'],axis=1).to_frame().reset_index()\n",
    "\n",
    "    ORB_Target_df = ORB_Target_df.rename({0:'ORB_golden_ratio_target'},axis=1)\n",
    "\n",
    "    ORB_breakout_df = df.groupby('dt').first().apply(lambda row: row['high'] if row['bullish'] else row['low'],axis=1).to_frame().reset_index()\n",
    "\n",
    "    ORB_breakout_df= ORB_breakout_df.rename({0:'ORB_breakout_level'},axis=1)\n",
    "\n",
    "    df = df.merge(ORB_Target_df).merge(ORB_breakout_df)\n",
    "    dfs[symbol]=df"
   ]
  },
  {
   "cell_type": "code",
   "execution_count": null,
   "id": "0b6734d1",
   "metadata": {},
   "outputs": [],
   "source": [
    "dfs.get(inst_list[0]).head(0)"
   ]
  }
 ],
 "metadata": {
  "kernelspec": {
   "display_name": "Python 3 (ipykernel)",
   "language": "python",
   "name": "python3"
  },
  "language_info": {
   "codemirror_mode": {
    "name": "ipython",
    "version": 3
   },
   "file_extension": ".py",
   "mimetype": "text/x-python",
   "name": "python",
   "nbconvert_exporter": "python",
   "pygments_lexer": "ipython3",
   "version": "3.9.19"
  }
 },
 "nbformat": 4,
 "nbformat_minor": 5
}
