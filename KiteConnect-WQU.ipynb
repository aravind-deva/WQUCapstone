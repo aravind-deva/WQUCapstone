{
 "cells": [
  {
   "cell_type": "code",
   "execution_count": 1,
   "id": "dc25990c-46c0-43cc-bcbd-28e3545dcb3c",
   "metadata": {
    "ExecuteTime": {
     "end_time": "2025-05-07T12:10:30.328792Z",
     "start_time": "2025-05-07T12:10:29.520784Z"
    }
   },
   "outputs": [],
   "source": [
    "import numpy as np\n",
    "import pandas as pd\n",
    "import time\n",
    "import ast\n",
    "import json\n",
    "import datetime\n",
    "import pprint\n",
    "\n",
    "\n",
    "import warnings \n",
    "warnings.filterwarnings('ignore')\n",
    "\n",
    "import logging\n",
    "from kiteconnect import KiteConnect\n",
    "\n",
    "from kiteconnect import KiteConnect, KiteTicker\n",
    "import time\n",
    "import threading\n",
    "\n",
    "logging.basicConfig(level=logging.ERROR)\n",
    "\n",
    "from kiteconnect import KiteConnect\n",
    "import os\n",
    "import pickle\n",
    "\n",
    "pd.options.display.max_rows = 500\n",
    "pd.options.display.max_columns = 1000"
   ]
  },
  {
   "cell_type": "code",
   "execution_count": null,
   "id": "d0f64b3e",
   "metadata": {},
   "outputs": [],
   "source": [
    "kite = KiteConnect(api_key=api_key)\n",
    "data = kite.generate_session(request_token, api_secret=api_secret)\n",
    "access_token = data[\"access_token\"]\n",
    "kite.set_access_token(access_token)"
   ]
  },
  {
   "cell_type": "code",
   "execution_count": 26,
   "id": "0300ab2f",
   "metadata": {},
   "outputs": [],
   "source": [
    "instruments = kite.instruments()\n",
    "inst_list = [\n",
    "             \"ICICIBANK\",\"HDFCBANK\",\"YESBANK\",\"AXISBANK\",\\\n",
    "             \"INFY\",\"TCS\",\\\n",
    "             \"TATAMOTORS\",\"TVSMOTOR\"\\\n",
    "            ]\n",
    "\n"
   ]
  },
  {
   "cell_type": "code",
   "execution_count": 1,
   "id": "a329875c-6b46-453d-83e7-8ec9e7528454",
   "metadata": {},
   "outputs": [],
   "source": [
    "dict_inst ={}\n",
    "inst_dict = {} \n",
    "inst_ticks = {}\n",
    "for inst in instruments:\n",
    "    if inst.get(\"instrument_type\") == 'EQ' and  inst.get(\"exchange\") == \"NSE\":\n",
    "        symbol = inst.get(\"tradingsymbol\")\n",
    "        dict_inst[symbol] = inst.get(\"instrument_token\")\n",
    "        inst_dict[inst.get(\"instrument_token\")] = symbol\n",
    "        inst_ticks[symbol] = inst.get(\"tick_size\")\n",
    "        if symbol in inst_list:\n",
    "            print(inst)"
   ]
  },
  {
   "cell_type": "code",
   "execution_count": 28,
   "id": "6f5249c4",
   "metadata": {
    "scrolled": false
   },
   "outputs": [
    {
     "name": "stdout",
     "output_type": "stream",
     "text": [
      "last 5 days\n",
      "-------------- ICICIBANK\n",
      "-------------- HDFCBANK\n",
      "-------------- YESBANK\n",
      "-------------- AXISBANK\n",
      "-------------- INFY\n",
      "-------------- TCS\n",
      "-------------- TATAMOTORS\n",
      "-------------- TVSMOTOR\n"
     ]
    }
   ],
   "source": [
    "print('last 5 days')\n",
    "returns_dict ={}\n",
    "delta_dict = {}\n",
    "vol_dict = {}\n",
    "for symbol in  inst_list:\n",
    "    instrument_token = dict_inst.get(symbol)\n",
    "    interval = \"5minute\"\n",
    "\n",
    "    to_date = datetime.date.today()\n",
    "    from_date =  to_date - datetime.timedelta(days=5)\n",
    "\n",
    "    data = kite.historical_data(\n",
    "        instrument_token=instrument_token,\n",
    "        from_date=from_date,\n",
    "        to_date=to_date,\n",
    "        interval=interval,\n",
    "        continuous=False,\n",
    "        oi=False\n",
    "    )\n",
    "\n",
    "    close_prices = []\n",
    "    print(\"--------------\",symbol)\n",
    "    \n",
    "    df = pd.DataFrame(data)\n",
    "    df['ticker'] =symbol\n",
    "    df.to_csv(f'{symbol}.csv',index=False)\n",
    "    \n"
   ]
  },
  {
   "cell_type": "markdown",
   "id": "bdb496fb",
   "metadata": {},
   "source": [
    "## Plan of Action\n",
    "\n",
    "- For each ticker, the opening range is constructed\n",
    "- Based on opening bullish/bearish chandle, the breakout level is determined. Scope to use retracement levels\n",
    "- Based on Fibonacci Golden ratio Extension , target is determined\n"
   ]
  },
  {
   "cell_type": "code",
   "execution_count": null,
   "id": "52666a0f",
   "metadata": {},
   "outputs": [],
   "source": [
    "dfs= {}\n",
    "for symbol in  inst_list:\n",
    "    df = pd.read_csv(f'{symbol}.csv')\n",
    "\n",
    "    df['dt'] = pd.to_datetime(df.date).dt.date\n",
    "\n",
    "    bullish_df= df.groupby('dt').first().apply(lambda row:row['open']-row['close'] > 0,axis=1).to_frame().reset_index()\n",
    "\n",
    "    bullish_df = bullish_df.rename({0:'bullish'},axis=1)\n",
    "\n",
    "    OR_df = df.groupby('dt').first().apply(lambda row:row['high']-row['low'],axis=1).to_frame().reset_index()\n",
    "\n",
    "    OR_df = OR_df.rename({0:'OR'},axis=1)\n",
    "    \n",
    "    \n",
    "    df = df.merge(bullish_df).merge(OR_df)\n",
    "\n",
    "    ORB_Target_df = df.groupby('dt').first().apply(lambda row: row['low'] + 1.618 *  row['OR'] if row['bullish'] else row['high'] - 1.618 *  row['OR'],axis=1).to_frame().reset_index()\n",
    "\n",
    "    ORB_Target_df = ORB_Target_df.rename({0:'ORB_golden_ratio_target'},axis=1)\n",
    "\n",
    "    ORB_breakout_df = df.groupby('dt').first().apply(lambda row: row['high'] if row['bullish'] else row['low'],axis=1).to_frame().reset_index()\n",
    "\n",
    "    ORB_breakout_df= ORB_breakout_df.rename({0:'ORB_breakout_level'},axis=1)\n",
    "\n",
    "    df = df.merge(ORB_Target_df).merge(ORB_breakout_df)\n",
    "    dfs[symbol]=df"
   ]
  },
  {
   "cell_type": "code",
   "execution_count": null,
   "id": "d6f70080",
   "metadata": {},
   "outputs": [],
   "source": [
    "dfs.get(inst_list[0]).head(0)"
   ]
  },
  {
   "cell_type": "markdown",
   "id": "09818c23",
   "metadata": {},
   "source": [
    "### Parsing University Data"
   ]
  },
  {
   "cell_type": "code",
   "execution_count": 5,
   "id": "f30affe8",
   "metadata": {},
   "outputs": [],
   "source": [
    "import os\n",
    "\n",
    "data_dir =\"C:/Aravind/Study/MScFEWQU/Capstone/Data/Cash Stocks Data-20251004T081638Z-1-001/Cash Stocks Data/\"\n",
    "dirs =[] \n",
    "for p,q,r in os.walk(data_dir):\n",
    "    if not r:\n",
    "    \n",
    "        [dirs.append(os.path.join(p,d)) for d in q]\n",
    "        "
   ]
  },
  {
   "cell_type": "code",
   "execution_count": 6,
   "id": "32ed373d",
   "metadata": {},
   "outputs": [
    {
     "name": "stdout",
     "output_type": "stream",
     "text": [
      "AXISBANK.csv\n",
      "HDFCBANK.csv\n",
      "ICICIBANK.csv\n",
      "INFY.csv\n",
      "TATAMOTORS.csv\n",
      "TCS.csv\n",
      "TVSMOTOR.csv\n",
      "YESBANK.csv\n",
      "AXISBANK.csv\n",
      "HDFCBANK.csv\n",
      "ICICIBANK.csv\n",
      "INFY.csv\n",
      "TATAMOTORS.csv\n",
      "TCS.csv\n",
      "TVSMOTOR.csv\n",
      "YESBANK.csv\n"
     ]
    }
   ],
   "source": [
    "dfs ={}\n",
    "\n",
    "for data_dir in dirs:\n",
    "    for file in os.listdir(data_dir):\n",
    "        if not file.endswith('.csv'):\n",
    "            continue\n",
    "        if file[0]!=\".\":\n",
    "            symbol = file.removesuffix(\".csv\") \n",
    "            if symbol in inst_list :\n",
    "                print(file)\n",
    "                df = pd.read_csv(data_dir+\"/\"+file)\n",
    "                df.columns = [ x.strip()[1:-1] for x in df.columns.tolist() ]\n",
    "                prev_df = dfs.get(symbol)\n",
    "                if prev_df is not None:\n",
    "                    df = pd.concat([prev_df,df],axis =0 )\n",
    "                dfs[symbol]=df"
   ]
  },
  {
   "cell_type": "code",
   "execution_count": 7,
   "id": "7dad3007",
   "metadata": {},
   "outputs": [],
   "source": [
    "dfs_orb= {}\n",
    "for symbol in  inst_list:\n",
    "    df = dfs.get(symbol)\n",
    "\n",
    "    df['dt'] = pd.to_datetime(df.date).dt.date\n",
    "\n",
    "    bullish_df= df.groupby('dt').first().apply(lambda row:row['open']-row['close'] > 0,axis=1).to_frame().reset_index()\n",
    "\n",
    "    bullish_df = bullish_df.rename({0:'bullish'},axis=1)\n",
    "\n",
    "    OR_df = df.groupby('dt').first().apply(lambda row:row['high']-row['low'],axis=1).to_frame().reset_index()\n",
    "\n",
    "    OR_df = OR_df.rename({0:'OR'},axis=1)\n",
    "    \n",
    "    \n",
    "    df = df.merge(bullish_df).merge(OR_df)\n",
    "\n",
    "    ORB_Target_df = df.groupby('dt').first().apply(lambda row: row['low'] + 1.618 *  row['OR'] if row['bullish'] else row['high'] - 1.618 *  row['OR'],axis=1).to_frame().reset_index()\n",
    "\n",
    "    ORB_Target_df = ORB_Target_df.rename({0:'ORB_golden_ratio_target'},axis=1)\n",
    "\n",
    "    ORB_breakout_df = df.groupby('dt').first().apply(lambda row: row['high'] if row['bullish'] else row['low'],axis=1).to_frame().reset_index()\n",
    "\n",
    "    ORB_breakout_df= ORB_breakout_df.rename({0:'ORB_breakout_level'},axis=1)\n",
    "\n",
    "    df = df.merge(ORB_Target_df).merge(ORB_breakout_df)\n",
    "    dfs_orb[symbol]=df"
   ]
  },
  {
   "cell_type": "code",
   "execution_count": 8,
   "id": "95db9322",
   "metadata": {},
   "outputs": [
    {
     "data": {
      "text/html": [
       "<div>\n",
       "<style scoped>\n",
       "    .dataframe tbody tr th:only-of-type {\n",
       "        vertical-align: middle;\n",
       "    }\n",
       "\n",
       "    .dataframe tbody tr th {\n",
       "        vertical-align: top;\n",
       "    }\n",
       "\n",
       "    .dataframe thead th {\n",
       "        text-align: right;\n",
       "    }\n",
       "</style>\n",
       "<table border=\"1\" class=\"dataframe\">\n",
       "  <thead>\n",
       "    <tr style=\"text-align: right;\">\n",
       "      <th></th>\n",
       "      <th>ticker</th>\n",
       "      <th>date</th>\n",
       "      <th>time</th>\n",
       "      <th>open</th>\n",
       "      <th>high</th>\n",
       "      <th>low</th>\n",
       "      <th>close</th>\n",
       "      <th>volume</th>\n",
       "      <th>o/i</th>\n",
       "      <th>dt</th>\n",
       "      <th>bullish</th>\n",
       "      <th>OR</th>\n",
       "      <th>ORB_golden_ratio_target</th>\n",
       "      <th>ORB_breakout_level</th>\n",
       "    </tr>\n",
       "  </thead>\n",
       "  <tbody>\n",
       "  </tbody>\n",
       "</table>\n",
       "</div>"
      ],
      "text/plain": [
       "Empty DataFrame\n",
       "Columns: [ticker, date, time, open, high, low, close, volume, o/i, dt, bullish, OR, ORB_golden_ratio_target, ORB_breakout_level]\n",
       "Index: []"
      ]
     },
     "execution_count": 8,
     "metadata": {},
     "output_type": "execute_result"
    }
   ],
   "source": [
    "dfs_orb.get(inst_list[0]).head(0)"
   ]
  },
  {
   "cell_type": "code",
   "execution_count": null,
   "id": "90e687fb",
   "metadata": {},
   "outputs": [],
   "source": []
  }
 ],
 "metadata": {
  "kernelspec": {
   "display_name": "Python 3 (ipykernel)",
   "language": "python",
   "name": "python3"
  },
  "language_info": {
   "codemirror_mode": {
    "name": "ipython",
    "version": 3
   },
   "file_extension": ".py",
   "mimetype": "text/x-python",
   "name": "python",
   "nbconvert_exporter": "python",
   "pygments_lexer": "ipython3",
   "version": "3.9.19"
  }
 },
 "nbformat": 4,
 "nbformat_minor": 5
}
